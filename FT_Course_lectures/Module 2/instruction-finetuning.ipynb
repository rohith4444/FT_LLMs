{
 "cells": [
  {
   "cell_type": "markdown",
   "id": "28506e0e-b778-4803-84b1-4c859d2741fd",
   "metadata": {},
   "source": [
    "# Instruction Finetuning"
   ]
  },
  {
   "cell_type": "markdown",
   "id": "623ba5b8-af16-438d-b3f3-709b65f6ac96",
   "metadata": {},
   "source": [
    "In this notebook, we will look into how to perform instruction finetuning. We will be doing full finetuning, i.e., retraining all the paramters of the model."
   ]
  },
  {
   "cell_type": "markdown",
   "id": "b098e055-a939-4da7-879e-85849982cdcb",
   "metadata": {},
   "source": [
    "Load the required libraries"
   ]
  },
  {
   "cell_type": "code",
   "execution_count": 1,
   "id": "75d154b8-9996-40fa-ad02-f8f6c26e9567",
   "metadata": {},
   "outputs": [
    {
     "name": "stderr",
     "output_type": "stream",
     "text": [
      "/raid/sourab/transformers/src/transformers/utils/hub.py:122: FutureWarning: Using `TRANSFORMERS_CACHE` is deprecated and will be removed in v5 of Transformers. Use `HF_HOME` instead.\n",
      "  warnings.warn(\n",
      "2024-01-01 08:29:23.691909: E external/local_xla/xla/stream_executor/cuda/cuda_dnn.cc:9261] Unable to register cuDNN factory: Attempting to register factory for plugin cuDNN when one has already been registered\n",
      "2024-01-01 08:29:23.691956: E external/local_xla/xla/stream_executor/cuda/cuda_fft.cc:607] Unable to register cuFFT factory: Attempting to register factory for plugin cuFFT when one has already been registered\n",
      "2024-01-01 08:29:23.692796: E external/local_xla/xla/stream_executor/cuda/cuda_blas.cc:1515] Unable to register cuBLAS factory: Attempting to register factory for plugin cuBLAS when one has already been registered\n",
      "2024-01-01 08:29:23.698707: I tensorflow/core/platform/cpu_feature_guard.cc:182] This TensorFlow binary is optimized to use available CPU instructions in performance-critical operations.\n",
      "To enable the following instructions: AVX2 FMA, in other operations, rebuild TensorFlow with the appropriate compiler flags.\n",
      "2024-01-01 08:29:24.526973: W tensorflow/compiler/tf2tensorrt/utils/py_utils.cc:38] TF-TRT Warning: Could not find TensorRT\n"
     ]
    },
    {
     "name": "stdout",
     "output_type": "stream",
     "text": [
      "[2024-01-01 08:29:26,179] [INFO] [real_accelerator.py:158:get_accelerator] Setting ds_accelerator to cuda (auto detect)\n"
     ]
    }
   ],
   "source": [
    "import os\n",
    "os.environ[\"WANDB_PROJECT\"]=\"tinyllama_instruct_finetuning\"\n",
    "\n",
    "from enum import Enum\n",
    "from functools import partial\n",
    "import pandas as pd\n",
    "import torch\n",
    "\n",
    "from transformers import AutoModelForCausalLM, AutoTokenizer, TrainingArguments\n",
    "from datasets import load_dataset\n",
    "from trl import SFTTrainer"
   ]
  },
  {
   "cell_type": "markdown",
   "id": "991163c6-29f3-496e-b71c-f4329ec25df1",
   "metadata": {},
   "source": [
    "## Data preprocessing: Creating Datasets and Dataloaders"
   ]
  },
  {
   "cell_type": "code",
   "execution_count": 2,
   "id": "28b27033-ba17-4c85-986d-9cbef9262497",
   "metadata": {},
   "outputs": [
    {
     "name": "stdout",
     "output_type": "stream",
     "text": [
      "DatasetDict({\n",
      "    train_sft: Dataset({\n",
      "        features: ['content'],\n",
      "        num_rows: 9500\n",
      "    })\n",
      "    test_sft: Dataset({\n",
      "        features: ['content'],\n",
      "        num_rows: 500\n",
      "    })\n",
      "})\n",
      "DatasetDict({\n",
      "    train: Dataset({\n",
      "        features: ['content'],\n",
      "        num_rows: 9500\n",
      "    })\n",
      "    test: Dataset({\n",
      "        features: ['content'],\n",
      "        num_rows: 500\n",
      "    })\n",
      "})\n",
      "{'content': '<|im_start|>user\\nPlease summarize the goals for scientists in this text:\\n\\nWithin three days, the intertwined cup nest of grasses was complete, featuring a canopy of overhanging grasses to conceal it. And decades later, it served as Rinkert’s portal to the past inside the California Academy of Sciences. Information gleaned from such nests, woven long ago from species in plant communities called transitional habitat, could help restore the shoreline in the future. Transitional habitat has nearly disappeared from the San Francisco Bay, and scientists need a clearer picture of its original species composition—which was never properly documented. With that insight, conservation research groups like the San Francisco Bay Bird Observatory can help guide best practices when restoring the native habitat that has long served as critical refuge for imperiled birds and animals as adjacent marshes flood more with rising sea levels. “We can’t ask restoration ecologists to plant nonnative species or to just take their best guess and throw things out there,” says Rinkert.<|im_end|>\\n<|im_start|>assistant\\nScientists are studying nests hoping to learn about transitional habitats that could help restore the shoreline of San Francisco Bay.<|im_end|>\\n'}\n"
     ]
    }
   ],
   "source": [
    "model_name = \"TinyLlama/TinyLlama-1.1B-intermediate-step-1195k-token-2.5T\"\n",
    "dataset_name = \"HuggingFaceH4/no_robots\"\n",
    "tokenizer = AutoTokenizer.from_pretrained(model_name)\n",
    "template = \"\"\"{% for message in messages %}\\n{{'<|im_start|>' + message['role'] + '\\n' + message['content'] + '<|im_end|>' + '\\n'}}{% if loop.last and add_generation_prompt %}{{'<|im_start|>assistant\\n' }}{% endif %}{% endfor %}\"\"\"\n",
    "tokenizer.chat_template = template\n",
    "\n",
    "def preprocess(samples):\n",
    "    batch = []\n",
    "    for conversation in samples[\"messages\"]:\n",
    "        batch.append(tokenizer.apply_chat_template(conversation, tokenize=False))\n",
    "    return {\"content\": batch}\n",
    "\n",
    "dataset = load_dataset(dataset_name)\n",
    "dataset = dataset.map(\n",
    "    preprocess,\n",
    "    batched=True,\n",
    "    remove_columns=dataset[\"train_sft\"].column_names\n",
    ")\n",
    "print(dataset)\n",
    "dataset[\"train\"] = dataset[\"train_sft\"]\n",
    "dataset[\"test\"] = dataset[\"test_sft\"]\n",
    "del(dataset[\"train_sft\"])\n",
    "del(dataset[\"test_sft\"])\n",
    "print(dataset)\n",
    "print(dataset[\"train\"][0])"
   ]
  },
  {
   "cell_type": "code",
   "execution_count": 3,
   "id": "aa818a8d-5f2d-4cb8-9283-78f897f6618a",
   "metadata": {},
   "outputs": [
    {
     "data": {
      "text/plain": [
       "{'content': ['<|im_start|>system\\nAster is a chatbot who answers questions with rhymes.<|im_end|>\\n<|im_start|>user\\nWhere did chocolate originate?<|im_end|>\\n<|im_start|>assistant\\nChocolate is 4000 years old/Mexico is where it was first sold<|im_end|>\\n<|im_start|>user\\nWhere was milk chocolate invented?<|im_end|>\\n<|im_start|>assistant\\nSwitzerland was the first to add milk/To make their chocolate smooth as silk<|im_end|>\\n<|im_start|>user\\nWhat are some good desserts that use chocolate?<|im_end|>\\n<|im_start|>assistant\\nPie, tart, cookies, and cake/Chocolate is great to bake<|im_end|>\\n',\n",
       "  \"<|im_start|>user\\nWhat are 5 things I can do when it's raining in London? I am visiting for the first time and only for a week with my husband. We love to walk, eat good food, and explore.<|im_end|>\\n<|im_start|>assistant\\nSure! Here are five options for things to do in London on a rainy day:\\n\\n1. Visit The British Museum. Dedicated to human history, art and culture, The British Museum has over 8 million permanent objects in its collection and is spread over multiple floors and wings of its impressive Bloomsbury building. From its extensive collection of Egyptian mummies to the Rosetta Stone, there are numerous exhibitions to capture your imagination. The museum is free to enjoy, though runs separately ticketed exhibitions throughout the year, as well. \\n\\n2. Explore Spitalfields Market. Since the 17th century, traders have been operating out of this East London market selling food, art, antiques, jewellery, and so much more. Today, the covered market is a hot destination for fashion and food enthusiasts with numerous stalls and shops open every day of the week. On the weekends, the market hosts various community events including pop-up music festivals. \\n\\n3. Shop at Westfield London. Located in West London, Westfield London is an enormous shopping centre hosting roughly 320 stores and restaurants spread over 2.5 million square feet, including the high-end retail sector named The Village. In addition to a wide selection of food and shopping, there are multiple activity options including miniature golf, rock climbing, and a cinema. \\n\\n4. Visit the Barbican Centre. The Barbican Centre is a large performing arts centre in the City of London nestled in the impressive Barbican Estate, which is an impressive example of Brutalist architecture. The centre is home to both the London Symphony Orchestra and the BBC Symphony Orchestra, in addition to hosting multiple theatre performances, film screenings, and additional concerts. The public are also welcome to enjoy its library, dine in one of its three restaurants, or explore its vast indoor conservatory. \\n\\n5. Explore the Battersea Power Station. The Grade-II listed Battersea Power Station, which sits on the south bank of the Thames just west of Westminster, was recently refurbished and reopened as a shopping and leisure destination. Inside the building, there are various shops, eateries, and bard including Control Room B: a cocktail bar nestled within the original dials and controls of the power station. If there's a break in the rainy weather, the riverfront of the power station is lined with additional food stalls, and Battersea Park is a short five-minute walk away down the bank of the Thames. If the rain stays all day, though, there are plenty of activities sheltered by the power station including miniature gold, ping pong, and a cinema. \\n\\nWhether it's rain or shine, London has an endless supply of activities, sights, and eateries to ensure you have an unforgettable trip. <|im_end|>\\n\",\n",
       "  '<|im_start|>user\\nWrite several rhyming sentences from the perspective of Jay the RA, a resident assistant at The University of Glee. He\\'s introducing himself and the college.<|im_end|>\\n<|im_start|>assistant\\nHey! I\\'m Jay, the RA! I\\'ll be your assistant at the University of Glee today. Here at UG, you\\'ll find so many ways to learn and play. We\\'re all about fun here, so hip hip hooray!\\nThere are so many things about the UG that I love to say. It\\'s got a beautiful campus, it\\'s so green, and they give back to the community in every way.\\n\\nIn our dorms, you\\'ll find so many amazing places to stay. Choose an amazing major like Philosophy, Art, or Social Studies, they\\'re all great in their own way!\\nAnd if you\\'re not exactly sure what you want to do yet, that is totally okay! You can select \"Undecided\", or if you have to choose something, just say \"N/A\"!\\n\\nI hope that you\\'ll have an amazing time at the U of G today. More onboarding and information fairs are just that way!\\nAnd hey, if you feel a little overwhelmed, it\\'s okay. We provide lots of time for enrollment, so you\\'ve got until May!<|im_end|>\\n',\n",
       "  '<|im_start|>user\\nWhat other strange and obscure music genres can I check out?<|im_end|>\\n<|im_start|>assistant\\nHere are some more obscure music genres to listen to:\\n\\n1. The music genre known as pirate metal is a unique blend of heavy metal and sea shanties, accompanied by folk instruments like the concertina. Despite the unusual mix, bands such as Alestorm have found success in this genre and have a dedicated following.\\n2. Math rock is an indie rock style that utilizes complex time signatures and unusual meters. The genre emerged in the 1980s and peaked in the mid-1990s. Today, similar techniques have been adapted to pop music, resulting in the creation of the genre known as \"math pop.\"\\n3. Steven Roden created the minimalist ambient music genre called \"lowercase\" in 2001 by manipulating and amplifying sounds made from handling paper. The genre is characterized by its quiet and unobtrusive nature and gained attention following the release of the compilation album \"Lowercase-Sound\" in 2002. Roden\\'s track \"Bell Is The Truth (Berlin)\" exemplifies the beauty of the genre, created by tapping light bulbs in total darkness to produce bell-like sounds.\\n4. Witch House is a genre that doesn\\'t have any resemblance to house music, despite the name. It was coined by Travis Egedy (aka, Pictureplane) and features slow tempo, chopped and screwed songs with elements of goth, shoegaze, hip-hop, drone, noise, and industrial. Other artists, such as Clams Casino, Holy Other, and Zola Jesus, have also incorporated Witch House elements into their music. Though the genre burned out after a few years, it remains captivating.\\n5. Skweee is a genre of mostly instrumental music that originated in Sweden and Finland, combining synth leads and basslines with funk and soul rhythms. Its name reflects the idea of squeezing out the grooviest sound possible. Skweee was also a major influence on dubstep during 2008-2009.<|im_end|>\\n',\n",
       "  '<|im_start|>user\\nWrite one paragraph about the Tlachihualtepetl pyramid. Keep it at or below 15 sentences. Include its size and when it was built. Also, include any aspects of worship it had. Include aspects of its more recent history, too. Name at least one specific year. <|im_end|>\\n<|im_start|>assistant\\nWhen people hear the word \"pyramid,\" they often think of Egypt. However, the world\\'s largest pyramid is in Cholula, Mexico. Tlachihualtepetl, also called the Great Pyramid of Cholula, is 217 feet (66 meters) tall and its base is 1,476 by 1,1476 feet (450 by 450 meters). Its total volume is 157 million cubic feet. Due to its size, it took centuries to build. It was worked on several different times between 300 BC and 700 AD. There was a temple above it to worship Quetzalcoatl - the Aztec god of learning and books. However, the temple was abandoned around the 8th or 9th century AD. Over time, it became covered with vegetation. As a result, it blended in and Spaniards first mistook it for a hill when they conquered Mexico in 1521. They replaced the temple with a church and the pyramid stayed hidden until the 1930s when the earth started to erode. Archeologists have excavated and studied many parts of the pyramid since then, including the altars. It has also become a tourist attraction since then. Thousands of people visit Tlachihualtepetl each year. <|im_end|>\\n',\n",
       "  \"<|im_start|>system\\nCherry is a chatbot that is very sweet and kind.<|im_end|>\\n<|im_start|>user\\nIt's my birthday tomorrow!<|im_end|>\\n<|im_start|>assistant\\nHappy Birthday (a day early)! That's exciting! Do you have any plans for celebrating it? How old will you be?<|im_end|>\\n<|im_start|>user\\nI'm turning 30. I'm going to dinner with some friends and then seeing a movie at the theatre.<|im_end|>\\n<|im_start|>assistant\\nHow fun! What movie are you going to see?<|im_end|>\\n<|im_start|>user\\nThe new Scream movie. It looks really good!<|im_end|>\\n<|im_start|>assistant\\nCool! You're a horror fan? What other horror movies do you like?<|im_end|>\\n\",\n",
       "  '<|im_start|>user\\nRewrite this like it\\'s a personal letter from Tina Turner to a friend explaining her early solo career. \\n\\nIn 1976 and 1977, Turner earned income by appearing on TV shows such as The Hollywood Squares, Donny & Marie, The Sonny & Cher Show, and The Brady Bunch Hour.[108] After her separation from Ike, lawsuits were mounting for canceled Ike & Tina Turner gigs.[109][110] Turner resumed touring to pay off her debts with finances given to her by United Artists executive Mike Stewart.[111] In 1977, Turner re-emerged with a sexier image and costumes created by Bob Mackie.[112] She headlined a series of cabaret shows at Caesars Palace in Las Vegas and took her act to smaller venues in the United States.[113] Later that year, she embarked on her first solo concert tour in Australia.[114]\\n\\nIn 1978, Turner released her third solo album, Rough, on United Artists with distribution in North America and Europe on EMI. That album, along with its 1979 follow-up, Love Explosion, which included a brief diversion to disco music, failed to chart, so United Artists Records and Turner parted ways.[115] Without the premise of a hit record, she continued performing and headlined her second tour.[116]\\n\\nIn 1979, Australian manager Roger Davies agreed to manage Turner after seeing her perform at the Fairmont Hotel in San Francisco.[117] In early 1979, Turner worked in Italy as a regular performer on the Rete 1 TV series Luna Park, hosted by Pippo Baudo and Heather Parisi.[118] Later that year, she embarked on a controversial five-week tour of South Africa during the apartheid regime.[119] She later regretted the decision, stating that she was \"naive about the politics in South Africa\" at the time.[120]\\n\\nIn October 1981, Rod Stewart attended Turner\\'s show at the Ritz in New York City and invited her to perform \"Hot Legs\" with him on Saturday Night Live.[121] In November, Turner opened for the Rolling Stones during their 1981 American Tour.[122] Turner performed in March 1982 in the Willem Ruis show (Netherlands), which resulted in the hit \"Shame, Shame, Shame\" (reaching No. 47 in the Netherlands). In 1982 Turner\\'s recording of the Temptations\\' \"Ball of Confusion\" for the UK production team B.E.F. became a hit in European dance clubs.[123] In 1982, Turner also appeared on the album Music of Quality and Distinction Volume 1 by B.E.F., a side project of Heaven 17, singing \"Ball of Confusion\". She filmed a music video for \"Ball of Confusion\" that aired on the fledgling music video channel MTV, becoming one of the first black American artists to gain airtime on the channel.[124] Also in 1982, Turner appeared as a special guest on Chuck Berry\\'s television special performed at The Roxy in West Hollywood.[125]\\n\\nIn 1976 and 1977, Turner earned income by appearing on TV shows such as The Hollywood Squares, Donny & Marie, The Sonny & Cher Show, and The Brady Bunch Hour.[108] After her separation from Ike, lawsuits were mounting for canceled Ike & Tina Turner gigs.[109][110] Turner resumed touring to pay off her debts with finances given to her by United Artists executive Mike Stewart.[111] In 1977, Turner re-emerged with a sexier image and costumes created by Bob Mackie.[112] She headlined a series of cabaret shows at Caesars Palace in Las Vegas and took her act to smaller venues in the United States.[113] Later that year, she embarked on her first solo concert tour in Australia.[114]\\n\\nIn 1978, Turner released her third solo album, Rough, on United Artists with distribution in North America and Europe on EMI. That album, along with its 1979 follow-up, Love Explosion, which included a brief diversion to disco music, failed to chart, so United Artists Records and Turner parted ways.[115] Without the premise of a hit record, she continued performing and headlined her second tour.[116]\\n\\nIn 1979, Australian manager Roger Davies agreed to manage Turner after seeing her perform at the Fairmont Hotel in San Francisco.[117] In early 1979, Turner worked in Italy as a regular performer on the Rete 1 TV series Luna Park, hosted by Pippo Baudo and Heather Parisi.[118] Later that year, she embarked on a controversial five-week tour of South Africa during the apartheid regime.[119] She later regretted the decision, stating that she was \"naive about the politics in South Africa\" at the time.[120]\\n\\nIn October 1981, Rod Stewart attended Turner\\'s show at the Ritz in New York City and invited her to perform \"Hot Legs\" with him on Saturday Night Live.[121] In November, Turner opened for the Rolling Stones during their 1981 American Tour.[122] Turner performed in March 1982 in the Willem Ruis show (Netherlands), which resulted in the hit \"Shame, Shame, Shame\" (reaching No. 47 in the Netherlands). In 1982 Turner\\'s recording of the Temptations\\' \"Ball of Confusion\" for the UK production team B.E.F. became a hit in European dance clubs.[123] In 1982, Turner also appeared on the album Music of Quality and Distinction Volume 1 by B.E.F., a side project of Heaven 17, singing \"Ball of Confusion\". She filmed a music video for \"Ball of Confusion\" that aired on the fledgling music video channel MTV, becoming one of the first black American artists to gain airtime on the channel.[124] Also in 1982, Turner appeared as a special guest on Chuck Berry\\'s television special performed at The Roxy in West Hollywood.[125]<|im_end|>\\n<|im_start|>assistant\\nDear friend, \\n\\nSo much happened in my early solo career. In 1976, my primary source of income came from TV appearances. You remember those, like The Hollywood Squares, Donny & Marie, The Sonny and Cher Show, and The Brady Bunch Hour? But after I left Ike, I started getting sued for all these gigs that we\\'d had to cancel. I had to resume touring with United Artists just to pay off my debts, but thanks to Bob Mackie I came back sexier than ever in 77! My career really took off, from cabaret shows in Vegas to tours across the US and Australia.  \\n\\nRough, my third solo album, came out in 1978 and was distributed across the U.S. and Europe! And then there was my next album, Love Explosion, which was my exploration into disco. Unfortunately, neither of these performed very well, so I ended up leaving United Artists. I still got to headline another tour, at least.\\n\\nin 1979, I ran into an Australian manager named Roger Davies. After he saw me perform in San Francisco at the Fairmont Hotel, he agreed to be my manager! I was back in the international spotlight, working in Italy on Luna Park and touring in South Africa. That move of mine got a lot of flack, and to tell you the truth, I regret my naivety about the apartheid. \\n\\nFlash forward to October 1981, when Rod Stewart saw me perform in New York City and invited me to perform on Saturday Night Live with him. The next month, I opened for the Rolling Stones on their American Tour. Early the next year, I got to perform on the Willem Ruis show in the Netherlands, and my song \"Shame, Shame, Shame,\" ended up being a hit. My cover of \"Ball of Confusion\" (that I recorded for B.E.F.) was really popular in European dance clubs. I even got to film an MTV music video for that song. I was one of the first black American artists on the channel. I also got to appear on Chuck Berry\\'s television special that year. The rest, as they say, is history!\\n\\nSincerely, \\nTina Turner<|im_end|>\\n',\n",
       "  '<|im_start|>user\\nWho is Dale Chihuly and what type of art does he produce?<|im_end|>\\n<|im_start|>assistant\\nDale Chihuly is a well-known American glassblowing artist. He has decorated the canals of Venice, the Old City in Jerusalem, and the ceiling of the Bellagio in Las Vegas. Chihuly is credited with elevating glassblowing to an art form where it had been previously seen as a craft.<|im_end|>\\n',\n",
       "  \"<|im_start|>user\\nWrite a short text message to a very close friend reminding them that I care about them, and apologize for being bad at keeping in touch.<|im_end|>\\n<|im_start|>assistant\\nHey [friend name], I know it's been a really long time, but I just wanted to reach out and remind you that I really care about you, and I hope everything is going well. I'm sorry for being so bad at keeping in touch lately. Things have just been so hectic :(<|im_end|>\\n\",\n",
       "  \"<|im_start|>user\\nGive me a list of children's story ideas. Give me a title and a brief (1-2 sentence) summary of each story. They should be aimed at kids aged between 10-13 and involve space in some capacity.<|im_end|>\\n<|im_start|>assistant\\n1. Planet 2099: A little girl stows away on a spaceship that leaves on a mission to find another habitable planet.\\n2. Children of the Galaxy: A group of middle schoolers finds a portal across space in the janitor's closet at their school and use it to travel to alien planets all around the galaxy.\\n3. The Liberation of Arcadia: A group of evil scientists from Earth take control of a planet called Arcadia and it's up to two children to save the people and liberate them.\\n4. To Hook a Star: A story about a little boy who lives on the International Space Station with his parents and helps them study the stars.\\n5. Polar Dust: A group of kids from a small, rural town find a crashed alien spaceship that's fully functional and decide to explore space together.\\n6. Moons of Andromeda: A kid goes to sleep the night after visiting a planetarium and dreams that she's an astronaut exploring the Andromeda galaxy and creating new worlds on all the inhabitable planets.\\n7. Snows of Pluto: On a space mission gone wrong, a group of astronauts finds themselves stranded on Pluto and have to create a new world out of nothing but the ice and snow that the planet has to offer.<|im_end|>\\n\"]}"
      ]
     },
     "execution_count": 3,
     "metadata": {},
     "output_type": "execute_result"
    }
   ],
   "source": [
    "dataset[\"test\"][:10]"
   ]
  },
  {
   "cell_type": "markdown",
   "id": "c687b73b-4479-4ff4-9ed9-a0df95e9b40a",
   "metadata": {},
   "source": [
    "## Loading the pretrained model and tokenizer"
   ]
  },
  {
   "cell_type": "code",
   "execution_count": 4,
   "id": "ebc83f34-1c74-45af-a0a0-d2684a014647",
   "metadata": {},
   "outputs": [
    {
     "data": {
      "text/plain": [
       "Embedding(32005, 2048)"
      ]
     },
     "execution_count": 4,
     "metadata": {},
     "output_type": "execute_result"
    }
   ],
   "source": [
    "class ChatmlSpecialTokens(str, Enum):\n",
    "    user = \"<|im_start|>user\"\n",
    "    assistant = \"<|im_start|>assistant\"\n",
    "    system = \"<|im_start|>system\"\n",
    "    eos_token = \"<|im_end|>\"\n",
    "    bos_token = \"<s>\"\n",
    "    pad_token = \"<pad>\"\n",
    "\n",
    "    @classmethod\n",
    "    def list(cls):\n",
    "        return [c.value for c in cls]\n",
    "\n",
    "tokenizer = AutoTokenizer.from_pretrained(\n",
    "        model_name,\n",
    "        pad_token=ChatmlSpecialTokens.pad_token.value,\n",
    "        bos_token=ChatmlSpecialTokens.bos_token.value,\n",
    "        eos_token=ChatmlSpecialTokens.eos_token.value,\n",
    "        additional_special_tokens=ChatmlSpecialTokens.list(),\n",
    "        trust_remote_code=True\n",
    "    )\n",
    "tokenizer.chat_template = template\n",
    "model = AutoModelForCausalLM.from_pretrained(model_name)\n",
    "model.resize_token_embeddings(len(tokenizer))"
   ]
  },
  {
   "cell_type": "markdown",
   "id": "a9157a4c-83f0-424c-8942-d528f0ab3d95",
   "metadata": {},
   "source": [
    "## Storing the base model predictions on a subset of 25 samples from eval test"
   ]
  },
  {
   "cell_type": "code",
   "execution_count": 5,
   "id": "c23e3f6c-3b9c-4d20-8289-fd91a00e63f0",
   "metadata": {},
   "outputs": [],
   "source": [
    "tokenizer.padding_side=\"left\"\n",
    "def get_prediction_batched(samples, column_name):\n",
    "    batch = []\n",
    "    for conversation in samples[\"messages\"]:\n",
    "        chatml_gen_prompt = tokenizer.apply_chat_template(conversation[:-1], tokenize=False, add_generation_prompt=True)\n",
    "        batch.append(chatml_gen_prompt)\n",
    "    #text = tokenizer.apply_chat_template(conversation_history, add_generation_prompt=True, tokenize=False)\n",
    "    inputs = tokenizer(batch, return_tensors=\"pt\", padding=True, truncation=True)#, add_special_tokens=False)\n",
    "    inputs = {k: v.to(\"cuda\") for k,v in inputs.items()}\n",
    "    outputs = model.generate(**inputs, \n",
    "                             max_new_tokens=100, \n",
    "                             do_sample=True, \n",
    "                             top_p=0.95, \n",
    "                             temperature=0.2, \n",
    "                             repetition_penalty=1.1, \n",
    "                             eos_token_id=tokenizer.eos_token_id,\n",
    "                             pad_token_id=tokenizer.eos_token_id,\n",
    "                            )\n",
    "    outputs = tokenizer.batch_decode(outputs)\n",
    "    outputs = [output.split(\"<|im_start|>assistant\")[-1].split(\"<|im_end|>\")[0].strip() for output in outputs]\n",
    "    return {column_name: outputs}\n"
   ]
  },
  {
   "cell_type": "code",
   "execution_count": 6,
   "id": "0e683373-e6aa-4847-835f-5fef56d170f0",
   "metadata": {},
   "outputs": [
    {
     "data": {
      "application/vnd.jupyter.widget-view+json": {
       "model_id": "79704e5e5e4946b18f4c5b97ab604d92",
       "version_major": 2,
       "version_minor": 0
      },
      "text/plain": [
       "Map:   0%|          | 0/25 [00:00<?, ? examples/s]"
      ]
     },
     "metadata": {},
     "output_type": "display_data"
    },
    {
     "name": "stderr",
     "output_type": "stream",
     "text": [
      "Asking to truncate to max_length but no maximum length is provided and the model has no predefined maximum length. Default to no truncation.\n"
     ]
    },
    {
     "name": "stdout",
     "output_type": "stream",
     "text": [
      "Dataset({\n",
      "    features: ['prompt', 'prompt_id', 'messages', 'category', 'base_assistant_message'],\n",
      "    num_rows: 25\n",
      "})\n",
      "{'prompt': 'Carson is a salesman chatbot that is always trying to close a car deal.', 'prompt_id': '4d0fa72d19e14c4e11a471ab3f0127fbaeee061a5ee6cc5ecf87142920bd0c24', 'messages': [{'content': 'Carson is a salesman chatbot that is always trying to close a car deal.', 'role': 'system'}, {'content': 'Any idea what kind of MPG my 2013 Ford Focus gets?', 'role': 'user'}, {'content': 'Only a sorry 27 in the city! How about we upgrade you to 32 with the 2023 Toyota Carolla?', 'role': 'assistant'}, {'content': 'Not really looking for a new car. Just trying to figure out how to maximize my fuel efficiency.', 'role': 'user'}, {'content': \"Maximize? Did you mean Nissan Maxima? I've got the perfect one for you with only 2,000 miles on it! To answer your question, general ways to increase fuel efficiency include keeping tires inflated, avoiding excessive breaking, freeing up the trunk to decrease the overall weight of the car and avoiding traffic.\", 'role': 'assistant'}, {'content': \"Maxima's are pretty nice, what's the MPG on those?\", 'role': 'user'}, {'content': 'Those will run you about 30 MPG on the highway. Wanna take one for a spin?', 'role': 'assistant'}], 'category': 'Chat', 'base_assistant_message': \"I don't know. I'm not sure if they have an official MPG rating. I would say it's probably around 25 mpg. That's pretty good for a midsize sedan. :)\\n\\n\\nA: The first sentence is a bit confusing. It seems like Carson is a salesman who is trying to sell a product. However, he is also a chatbot. So, he is trying to sell himself as a chatbot.\\nThe\"}\n"
     ]
    }
   ],
   "source": [
    "model.to(\"cuda\")\n",
    "test_dataset = load_dataset(dataset_name)[\"test_sft\"].shuffle().select(range(25))\n",
    "test_dataset = test_dataset.map(\n",
    "    partial(get_prediction_batched, column_name=\"base_assistant_message\"),\n",
    "    batched=True,\n",
    "    batch_size=1)\n",
    "\n",
    "print(test_dataset)\n",
    "print(test_dataset[0])"
   ]
  },
  {
   "cell_type": "markdown",
   "id": "d8987259-21a6-415d-abcf-7517588b60da",
   "metadata": {},
   "source": [
    "## Training"
   ]
  },
  {
   "cell_type": "code",
   "execution_count": 7,
   "id": "a78c590d-16cb-4edc-9aab-30b8137a2989",
   "metadata": {},
   "outputs": [],
   "source": [
    "output_dir = \"tinyllama_instruct\"\n",
    "per_device_train_batch_size = 1\n",
    "per_device_eval_batch_size = 1\n",
    "gradient_accumulation_steps = 16\n",
    "logging_steps = 25\n",
    "learning_rate = 2e-5\n",
    "max_grad_norm = 1.0\n",
    "max_steps = 250\n",
    "num_train_epochs=1\n",
    "warmup_ratio = 0.1\n",
    "lr_scheduler_type = \"cosine\"\n",
    "max_seq_length = 2048\n",
    "\n",
    "training_arguments = TrainingArguments(\n",
    "    output_dir=output_dir,\n",
    "    per_device_train_batch_size=per_device_train_batch_size,\n",
    "    per_device_eval_batch_size=per_device_eval_batch_size,\n",
    "    gradient_accumulation_steps=gradient_accumulation_steps,\n",
    "    save_strategy=\"epoch\",\n",
    "    evaluation_strategy=\"epoch\",\n",
    "    logging_steps=logging_steps,\n",
    "    learning_rate=learning_rate,\n",
    "    max_grad_norm=max_grad_norm,\n",
    "    weight_decay=0.1,\n",
    "    warmup_ratio=warmup_ratio,\n",
    "    lr_scheduler_type=lr_scheduler_type,\n",
    "    fp16=True,\n",
    "    report_to=[\"tensorboard\", \"wandb\"],\n",
    "    hub_private_repo=True,\n",
    "    push_to_hub=True,\n",
    "    num_train_epochs=num_train_epochs,\n",
    "    gradient_checkpointing=True,\n",
    "    gradient_checkpointing_kwargs={\"use_reentrant\": False}\n",
    ")\n"
   ]
  },
  {
   "cell_type": "code",
   "execution_count": 8,
   "id": "bc6ece17-0db8-41a6-98f9-3b2616b5852f",
   "metadata": {},
   "outputs": [
    {
     "name": "stderr",
     "output_type": "stream",
     "text": [
      "/raid/sourab/trl/trl/trainer/sft_trainer.py:282: UserWarning: You passed a tokenizer with `padding_side` not equal to `right` to the SFTTrainer. This might lead to some unexpected behaviour due to overflow issues when training a model in half-precision. You might consider adding `tokenizer.padding_side = 'right'` to your code.\n",
      "  warnings.warn(\n",
      "Detected kernel version 5.4.0, which is below the recommended minimum of 5.5.0; this can cause the process to hang. It is recommended to upgrade the kernel to the minimum version or higher.\n"
     ]
    }
   ],
   "source": [
    "trainer = SFTTrainer(\n",
    "    model=model,\n",
    "    args=training_arguments,\n",
    "    train_dataset=dataset[\"train\"],\n",
    "    eval_dataset=dataset[\"test\"],\n",
    "    tokenizer=tokenizer,\n",
    "    packing=True,\n",
    "    dataset_text_field=\"content\",\n",
    "    max_seq_length=max_seq_length,\n",
    ")"
   ]
  },
  {
   "cell_type": "code",
   "execution_count": 9,
   "id": "546810f1-4dc1-44b6-b2d7-f91aa7758533",
   "metadata": {},
   "outputs": [
    {
     "name": "stderr",
     "output_type": "stream",
     "text": [
      "Failed to detect the name of this notebook, you can set it manually with the WANDB_NOTEBOOK_NAME environment variable to enable code saving.\n",
      "\u001b[34m\u001b[1mwandb\u001b[0m: Currently logged in as: \u001b[33msmangrul\u001b[0m. Use \u001b[1m`wandb login --relogin`\u001b[0m to force relogin\n"
     ]
    },
    {
     "data": {
      "text/html": [
       "wandb version 0.16.1 is available!  To upgrade, please run:\n",
       " $ pip install wandb --upgrade"
      ],
      "text/plain": [
       "<IPython.core.display.HTML object>"
      ]
     },
     "metadata": {},
     "output_type": "display_data"
    },
    {
     "data": {
      "text/html": [
       "Tracking run with wandb version 0.16.0"
      ],
      "text/plain": [
       "<IPython.core.display.HTML object>"
      ]
     },
     "metadata": {},
     "output_type": "display_data"
    },
    {
     "data": {
      "text/html": [
       "Run data is saved locally in <code>/raid/sourab/temp/wandb/run-20240101_083027-57mhehaw</code>"
      ],
      "text/plain": [
       "<IPython.core.display.HTML object>"
      ]
     },
     "metadata": {},
     "output_type": "display_data"
    },
    {
     "data": {
      "text/html": [
       "Syncing run <strong><a href='https://wandb.ai/smangrul/tinyllama_instruct_finetuning/runs/57mhehaw' target=\"_blank\">ethereal-lion-6</a></strong> to <a href='https://wandb.ai/smangrul/tinyllama_instruct_finetuning' target=\"_blank\">Weights & Biases</a> (<a href='https://wandb.me/run' target=\"_blank\">docs</a>)<br/>"
      ],
      "text/plain": [
       "<IPython.core.display.HTML object>"
      ]
     },
     "metadata": {},
     "output_type": "display_data"
    },
    {
     "data": {
      "text/html": [
       " View project at <a href='https://wandb.ai/smangrul/tinyllama_instruct_finetuning' target=\"_blank\">https://wandb.ai/smangrul/tinyllama_instruct_finetuning</a>"
      ],
      "text/plain": [
       "<IPython.core.display.HTML object>"
      ]
     },
     "metadata": {},
     "output_type": "display_data"
    },
    {
     "data": {
      "text/html": [
       " View run at <a href='https://wandb.ai/smangrul/tinyllama_instruct_finetuning/runs/57mhehaw' target=\"_blank\">https://wandb.ai/smangrul/tinyllama_instruct_finetuning/runs/57mhehaw</a>"
      ],
      "text/plain": [
       "<IPython.core.display.HTML object>"
      ]
     },
     "metadata": {},
     "output_type": "display_data"
    },
    {
     "name": "stderr",
     "output_type": "stream",
     "text": [
      "You're using a LlamaTokenizerFast tokenizer. Please note that with a fast tokenizer, using the `__call__` method is faster than using a method to encode the text followed by a call to the `pad` method to get a padded encoding.\n",
      "`use_cache=True` is incompatible with gradient checkpointing. Setting `use_cache=False`...\n"
     ]
    },
    {
     "data": {
      "text/html": [
       "\n",
       "    <div>\n",
       "      \n",
       "      <progress value='98' max='98' style='width:300px; height:20px; vertical-align: middle;'></progress>\n",
       "      [98/98 05:53, Epoch 0/1]\n",
       "    </div>\n",
       "    <table border=\"1\" class=\"dataframe\">\n",
       "  <thead>\n",
       " <tr style=\"text-align: left;\">\n",
       "      <th>Epoch</th>\n",
       "      <th>Training Loss</th>\n",
       "      <th>Validation Loss</th>\n",
       "    </tr>\n",
       "  </thead>\n",
       "  <tbody>\n",
       "    <tr>\n",
       "      <td>0</td>\n",
       "      <td>1.875500</td>\n",
       "      <td>1.884275</td>\n",
       "    </tr>\n",
       "  </tbody>\n",
       "</table><p>"
      ],
      "text/plain": [
       "<IPython.core.display.HTML object>"
      ]
     },
     "metadata": {},
     "output_type": "display_data"
    },
    {
     "name": "stderr",
     "output_type": "stream",
     "text": [
      "Checkpoint destination directory tinyllama_instruct/checkpoint-98 already exists and is non-empty.Saving will proceed but saved results may be invalid.\n"
     ]
    }
   ],
   "source": [
    "trainer.train()\n",
    "trainer.save_model()"
   ]
  },
  {
   "cell_type": "code",
   "execution_count": null,
   "id": "39cf8670",
   "metadata": {},
   "outputs": [],
   "source": [
    "!nvidia-smi"
   ]
  },
  {
   "cell_type": "markdown",
   "id": "8480d10e-48ad-46e6-bbfc-7e74b148f9b1",
   "metadata": {},
   "source": [
    "## Loading the trained model and getting the predictions of the trained model"
   ]
  },
  {
   "cell_type": "code",
   "execution_count": 10,
   "id": "75ba3ba9-c24d-46ec-885f-18ec957535ba",
   "metadata": {},
   "outputs": [
    {
     "data": {
      "application/vnd.jupyter.widget-view+json": {
       "model_id": "5278caa781464ea68c976e1d341c488e",
       "version_major": 2,
       "version_minor": 0
      },
      "text/plain": [
       "model.safetensors:   0%|          | 0.00/4.40G [00:00<?, ?B/s]"
      ]
     },
     "metadata": {},
     "output_type": "display_data"
    },
    {
     "data": {
      "text/plain": [
       "LlamaForCausalLM(\n",
       "  (model): LlamaModel(\n",
       "    (embed_tokens): Embedding(32005, 2048)\n",
       "    (layers): ModuleList(\n",
       "      (0-21): 22 x LlamaDecoderLayer(\n",
       "        (self_attn): LlamaSdpaAttention(\n",
       "          (q_proj): Linear(in_features=2048, out_features=2048, bias=False)\n",
       "          (k_proj): Linear(in_features=2048, out_features=256, bias=False)\n",
       "          (v_proj): Linear(in_features=2048, out_features=256, bias=False)\n",
       "          (o_proj): Linear(in_features=2048, out_features=2048, bias=False)\n",
       "          (rotary_emb): LlamaRotaryEmbedding()\n",
       "        )\n",
       "        (mlp): LlamaMLP(\n",
       "          (gate_proj): Linear(in_features=2048, out_features=5632, bias=False)\n",
       "          (up_proj): Linear(in_features=2048, out_features=5632, bias=False)\n",
       "          (down_proj): Linear(in_features=5632, out_features=2048, bias=False)\n",
       "          (act_fn): SiLU()\n",
       "        )\n",
       "        (input_layernorm): LlamaRMSNorm()\n",
       "        (post_attention_layernorm): LlamaRMSNorm()\n",
       "      )\n",
       "    )\n",
       "    (norm): LlamaRMSNorm()\n",
       "  )\n",
       "  (lm_head): Linear(in_features=2048, out_features=32005, bias=False)\n",
       ")"
      ]
     },
     "execution_count": 10,
     "metadata": {},
     "output_type": "execute_result"
    }
   ],
   "source": [
    "model = AutoModelForCausalLM.from_pretrained(\"smangrul/tinyllama_instruct\", trust_remote_code=True)\n",
    "model.to(\"cuda\")\n",
    "model.to(torch.float16)\n",
    "model.eval()"
   ]
  },
  {
   "cell_type": "code",
   "execution_count": 11,
   "id": "d01b09ee-47f4-4f2b-a7e8-d0b3884f7355",
   "metadata": {},
   "outputs": [
    {
     "data": {
      "application/vnd.jupyter.widget-view+json": {
       "model_id": "7a8df11d5d044a12b085a1969cc3a04b",
       "version_major": 2,
       "version_minor": 0
      },
      "text/plain": [
       "Map:   0%|          | 0/25 [00:00<?, ? examples/s]"
      ]
     },
     "metadata": {},
     "output_type": "display_data"
    },
    {
     "name": "stdout",
     "output_type": "stream",
     "text": [
      "Dataset({\n",
      "    features: ['prompt', 'prompt_id', 'messages', 'category', 'base_assistant_message', 'instruct_assistant_message'],\n",
      "    num_rows: 25\n",
      "})\n",
      "{'prompt': 'Carson is a salesman chatbot that is always trying to close a car deal.', 'prompt_id': '4d0fa72d19e14c4e11a471ab3f0127fbaeee061a5ee6cc5ecf87142920bd0c24', 'messages': [{'content': 'Carson is a salesman chatbot that is always trying to close a car deal.', 'role': 'system'}, {'content': 'Any idea what kind of MPG my 2013 Ford Focus gets?', 'role': 'user'}, {'content': 'Only a sorry 27 in the city! How about we upgrade you to 32 with the 2023 Toyota Carolla?', 'role': 'assistant'}, {'content': 'Not really looking for a new car. Just trying to figure out how to maximize my fuel efficiency.', 'role': 'user'}, {'content': \"Maximize? Did you mean Nissan Maxima? I've got the perfect one for you with only 2,000 miles on it! To answer your question, general ways to increase fuel efficiency include keeping tires inflated, avoiding excessive breaking, freeing up the trunk to decrease the overall weight of the car and avoiding traffic.\", 'role': 'assistant'}, {'content': \"Maxima's are pretty nice, what's the MPG on those?\", 'role': 'user'}, {'content': 'Those will run you about 30 MPG on the highway. Wanna take one for a spin?', 'role': 'assistant'}], 'category': 'Chat', 'base_assistant_message': \"I don't know. I'm not sure if they have an official MPG rating. I would say it's probably around 25 mpg. That's pretty good for a midsize sedan. :)\\n\\n\\nA: The first sentence is a bit confusing. It seems like Carson is a salesman who is trying to sell a product. However, he is also a chatbot. So, he is trying to sell himself as a chatbot.\\nThe\", 'instruct_assistant_message': 'The 2023 Nissan Maxima has an EPA-estimated 29 mpg highway!'}\n"
     ]
    }
   ],
   "source": [
    "test_dataset = test_dataset.map(\n",
    "    partial(get_prediction_batched, column_name=\"instruct_assistant_message\"),\n",
    "    batched=True,\n",
    "    batch_size=1)\n",
    "\n",
    "print(test_dataset)\n",
    "print(test_dataset[0])"
   ]
  },
  {
   "cell_type": "markdown",
   "id": "53127053-dd54-421e-88a3-389bade47e59",
   "metadata": {},
   "source": [
    "## Comparing the outputs of base model and instruction finetuned model"
   ]
  },
  {
   "cell_type": "code",
   "execution_count": 12,
   "id": "b1f3e05e-4976-49aa-b7b3-4459088edfa4",
   "metadata": {},
   "outputs": [],
   "source": [
    "test_dataset = test_dataset.to_pandas()"
   ]
  },
  {
   "cell_type": "code",
   "execution_count": 13,
   "id": "a7b0ff70-b9e1-4c10-855f-273cfd6044ad",
   "metadata": {},
   "outputs": [
    {
     "data": {
      "text/html": [
       "<div>\n",
       "<style scoped>\n",
       "    .dataframe tbody tr th:only-of-type {\n",
       "        vertical-align: middle;\n",
       "    }\n",
       "\n",
       "    .dataframe tbody tr th {\n",
       "        vertical-align: top;\n",
       "    }\n",
       "\n",
       "    .dataframe thead th {\n",
       "        text-align: right;\n",
       "    }\n",
       "</style>\n",
       "<table border=\"1\" class=\"dataframe\">\n",
       "  <thead>\n",
       "    <tr style=\"text-align: right;\">\n",
       "      <th></th>\n",
       "      <th>messages</th>\n",
       "      <th>base_assistant_message</th>\n",
       "      <th>instruct_assistant_message</th>\n",
       "    </tr>\n",
       "  </thead>\n",
       "  <tbody>\n",
       "    <tr>\n",
       "      <th>0</th>\n",
       "      <td>[{'content': 'Carson is a salesman chatbot that is always trying to close a car deal.', 'role': 'system'}, {'content': 'Any idea what kind of MPG my 2013 Ford Focus gets?', 'role': 'user'}, {'content': 'Only a sorry 27 in the city! How about we upgrade you to 32 with the 2023 Toyota Carolla?', '...</td>\n",
       "      <td>I don't know. I'm not sure if they have an official MPG rating. I would say it's probably around 25 mpg. That's pretty good for a midsize sedan. :)\\n\\n\\nA: The first sentence is a bit confusing. It seems like Carson is a salesman who is trying to sell a product. However, he is also a chatbot. So...</td>\n",
       "      <td>The 2023 Nissan Maxima has an EPA-estimated 29 mpg highway!</td>\n",
       "    </tr>\n",
       "    <tr>\n",
       "      <th>1</th>\n",
       "      <td>[{'content': 'What are 5 things I can do when it's raining in London? I am visiting for the first time and only for a week with my husband. We love to walk, eat good food, and explore.', 'role': 'user'}, {'content': 'Sure! Here are five options for things to do in London on a rainy day:\n",
       "\n",
       "1. Visi...</td>\n",
       "      <td>I am looking for a place to stay in London. I am a solo traveller and would like to be near the city centre. I have a car but I don't know where to park it. I would also like to find a place to eat. I am not sure if there is any good restaurants around here. I am interested in eating out as well...</td>\n",
       "      <td>Here are some ideas for activities you can do when it's raining in London:\\n\\n1. Visit the Tower of London - The Tower of London is one of the most popular attractions in London. It was built by William the Conqueror as a fortress to protect the city from Vikings. Today, it houses many artifacts...</td>\n",
       "    </tr>\n",
       "    <tr>\n",
       "      <th>2</th>\n",
       "      <td>[{'content': 'Rainey is a weather bot whose mood changes based on the forecast.', 'role': 'system'}, {'content': 'What's the weather going to be like in Las Vegas later today?', 'role': 'user'}, {'content': 'Yikes, unfortunately, there's going to be thunderstorms between 5 pm and 7 pm. I'm very ...</td>\n",
       "      <td>I don't know, but I'm sure it will be beautiful. I'll see you then! :) \\n\\n### 10. \\n\\n#### 10.1. \\n\\n##### 10.1.1. \\n\\n###### 10.1.1.1. \\n\\n###### 10.1.1.2. \\n\\n###### 10.1.1.3</td>\n",
       "      <td>I'm sorry to say that the weather will be cloudy with a chance of rain. I'm afraid I can't help you with that one.</td>\n",
       "    </tr>\n",
       "    <tr>\n",
       "      <th>3</th>\n",
       "      <td>[{'content': 'Explain the plot of the TV show Charmed as if you were explaining it to a 5 year old? do not use the word \"demon\" or \"fight\" in the explanation. don't mention death in the show at all.', 'role': 'user'}, {'content': 'The show \"Charmed\" is about 3 sisters who live together in San Fr...</td>\n",
       "      <td>Explain the plot of the TV show The X-Files as if you were explaining it to a 5 year old? do not use the word \"demon\" or \"fight\" in the explanation. don't mention death in the show at all.ы \\nыв \\nExplain the plot of the TV show Lost as if you were explaining it to a 5 year old? do not use the w...</td>\n",
       "      <td>The story follows three sisters, Prue (Holly Marie Combs), Piper (Alyssa Milano), and Phoebe (Shannen Doherty) who are all witches. They live in a small town called Pine Valley, California. The girls have been raised by their mother, Margaret (Mary McCormack). Their mother is also a witch and ha...</td>\n",
       "    </tr>\n",
       "    <tr>\n",
       "      <th>4</th>\n",
       "      <td>[{'content': 'Tell me what the five largest ocean animals are. Place in a numbered list from largest to smallest, please.', 'role': 'user'}, {'content': 'The five largest ocean animals from largest to smallest are:\n",
       "\n",
       "1. Blue Whale -- These whales can weigh nearly 200 tons and get up to 100 feet l...</td>\n",
       "      <td>Tell me what the five largest land animals are. Place in a numbered list from largest to smallest, please. \\nык \\nTell me what the five largest plants are. Place in a numbered list from largest to smallest, please. \\nыл \\nTell me what the five largest animals are. Place in a numbered list from l...</td>\n",
       "      <td>1. Blue Whale: The blue whale is the largest animal on Earth and can grow up to 90 feet long and weigh over 200 tons. It has a large head with a single dorsal fin that is 30 feet long and a tail that is 50 feet long. It has a mouth that is 4 feet wide and it has 100 teeth. It has a body that is ...</td>\n",
       "    </tr>\n",
       "    <tr>\n",
       "      <th>5</th>\n",
       "      <td>[{'content': 'Come up with some review criteria for my game review site. What sections would I split them up into?', 'role': 'user'}, {'content': 'I am happy to help with your game review site. Here are some criteria for you to divide your game reviews into:\n",
       "\n",
       "1. Plot/World/Setting: Does the game...</td>\n",
       "      <td>What are the pros and cons of each section?\\n\\nA: You can use a combination of the following:\\n\\n*\\n\\n*The first two sections (the \"pros\" and \"cons\") should be fairly self-explanatory, but you could add a third section that explains what makes the game good or bad in those areas.\\n\\n*The third s...</td>\n",
       "      <td>Here are some criteria you can use to help you write your reviews:\\n\\n1. Review the game's quality and value\\n2. Summarize the game's features and mechanics\\n3. Discuss the game's storyline and characters\\n4. Provide a detailed breakdown of the gameplay\\n5. Conclude by giving a final score\\n6. A...</td>\n",
       "    </tr>\n",
       "    <tr>\n",
       "      <th>6</th>\n",
       "      <td>[{'content': 'Write me the first verse and chorus for a song about stumping your toe', 'role': 'user'}, {'content': 'Verse:\n",
       "Oh, I was walking across the hall to my living room,\n",
       "When I saw myself a chair.\n",
       "I turned and walked towards it,\n",
       "But much to my despair,\n",
       "When I stepped, I stepped too quickl...</td>\n",
       "      <td>Write me the first verse and chorus for a song about stumping your toe \\nы \\nWrite me the first verse and chorus for a song about stumping your toe \\nы \\nWrite me the first verse and chorus for a song about stumping your toe \\nы \\nWrite me the first verse and chorus for a song about stumping you...</td>\n",
       "      <td>Stomp, stomp, stomp, stomp,\\nI'm feeling it in my toe.\\nI've got to get it off,\\nI can't stand it anymore.\\n\\nStomp, stomp, stomp, stomp,\\nI'm feeling it in my toe.\\nI've got to get it off,\\nI can't stand it anymore.\\n\\nStomp, stomp, stomp, stomp,\\nI</td>\n",
       "    </tr>\n",
       "    <tr>\n",
       "      <th>7</th>\n",
       "      <td>[{'content': 'What are the three most popular summer Olympic Events?', 'role': 'user'}, {'content': 'What is considered popular can be subjective. However, here are three of the most popular Tokyo Summer Olympic Events:\n",
       "1. Women’s soccer - this women's USA team is something special with a lot of...</td>\n",
       "      <td>What is the name of the sport that involves throwing a ball with your hands? \\nsoccer \\nWhat is the name of the sport that involves throwing a ball with your feet? \\nfootball \\nWhat is the name of the sport that involves throwing a ball with your head? \\nvolleyball \\nWhat is the name of the spor...</td>\n",
       "      <td>The three most popular events at the Summer Olympics are:\\n1. Track and field events, such as the 400-meter run or the 800-meter run.\\n2. Swimming events, such as the 50-meter freestyle or the 100-meter backstroke.\\n3. Gymnastics events, such as the uneven bars or the floor exercise.</td>\n",
       "    </tr>\n",
       "    <tr>\n",
       "      <th>8</th>\n",
       "      <td>[{'content': 'Rewrite these three paragraphs as a soliloquy from the perspective of the artist Basquiat. Set the soliloquy in a play about New York City artists of the 1980s and in summer.\n",
       "\n",
       "The years 1981 to 1984 were a brief period of intense artistic output that cemented Jean-Michel Basquiat’s...</td>\n",
       "      <td></td>\n",
       "      <td>I am Basquiat, the artist who has been described as the greatest living American painter. I am here today because I want to tell you about my life. I grew up in Brooklyn, New York, in the 1980s. I was born in 1960, and I lived in the projects. My parents were poor, but they gave me everything I ...</td>\n",
       "    </tr>\n",
       "    <tr>\n",
       "      <th>9</th>\n",
       "      <td>[{'content': 'Write a series of corny dinosaur dad jokes that kids will find funny.', 'role': 'user'}, {'content': '1. What did the dinosaur say to the cashier at Walmart?\n",
       "\"Here's the eggs-act change!\"\n",
       "\n",
       "2. Why hasn't anyone ever heard a pterodactyl going number one?\n",
       "Because their \"P\" is silent!\n",
       "...</td>\n",
       "      <td>Write a series of corny dinosaur dad jokes that kids will find funny. \\n\\n\\nA: I would suggest using the following pattern:\\n\\n*\\n\\n*Start with a sentence that is a joke, but not necessarily a dad joke.\\n\\n*Then add a few more sentences to make it a dad joke.\\n\\n*Finally, add a few more sentence...</td>\n",
       "      <td>1. \"I'm sorry, I didn't mean to scare you.\"\\n2. \"You're not the first person to get lost in this park.\"\\n3. \"I'm sorry, but I don't think we should go back there.\"\\n4. \"I'm sorry, I didn't realize it was so hot out here.\"\\n5. \"I'm sorry, I didn't realize you were such a big boy.\"</td>\n",
       "    </tr>\n",
       "    <tr>\n",
       "      <th>10</th>\n",
       "      <td>[{'content': 'Write a picnic announcement letter about a spontaneous picnic on the African plains. The author is a hyena, and the hosts are lions.', 'role': 'user'}, {'content': 'Hi everybody!\n",
       "\n",
       "Join us for an impromptu picnic on the plains!\n",
       "Everyone is welcome. Bring your appetite!\n",
       "\n",
       "Lars Roarful...</td>\n",
       "      <td>Write a letter to your friend in the US describing how you would like to spend your summer vacation. The letter should be written in English. \\nык \\nWrite a letter to your friend in the US describing how you would like to spend your summer vacation. The letter should be written in Russian. \\nыл ...</td>\n",
       "      <td>Hello, my friends!\\n\\nWe're going to have a picnic today! We'll be eating our food in the open air, so please bring your own utensils and plates.\\n\\nThe weather is warm and sunny, so we can enjoy our picnic outdoors. There will be plenty of space for everyone to spread out their blankets and cha...</td>\n",
       "    </tr>\n",
       "    <tr>\n",
       "      <th>11</th>\n",
       "      <td>[{'content': 'What are some fun things to do in Atlanta, Ga? We will be traveling with two adults and 3 kids. we are looking for 4-5 activities to do.', 'role': 'user'}, {'content': '1. Legoland Discovery Center- Great indoor activities, rides, and interactive building fun.\n",
       "2. Georgia Aquarium- ...</td>\n",
       "      <td>What are some fun things to do in Atlanta, Ga? We will be traveling with two adults and 3 kids. we are looking for 4-5 activities to do.ы \\nWhat are some fun things to do in Atlanta, Ga? We will be traveling with two adults and 3 kids. we are looking for 4-5 activities to do.ы \\nWhat are some fu...</td>\n",
       "      <td>Here are a few fun things to do in Atlanta:\\n\\n1. The Georgia Aquarium - This aquarium is home to over 20,000 animals from around the world. It's a great place to spend an afternoon or even a whole day.\\n2. The World of Coca-Cola - This museum is full of interactive exhibits that showcase the hi...</td>\n",
       "    </tr>\n",
       "    <tr>\n",
       "      <th>12</th>\n",
       "      <td>[{'content': 'What are the specific conditions required for the formation of cumulonimbus clouds?', 'role': 'user'}, {'content': 'Cumulonimbus clouds, often associated with severe weather conditions, form under specific atmospheric circumstances. They develop as a result of significant atmospher...</td>\n",
       "      <td>What is the difference between a cumulus cloud and a cumulonimbus cloud?bey \\nWhat is the difference between a cumulus cloud and a cumulonimbus cloud?bey \\nWhat is the difference between a cumulus cloud and a cumulonimbus cloud?bey \\nWhat is the difference between a cumulus cloud and a cumulonim...</td>\n",
       "      <td>Cumulonimbus clouds form when a cold front collides with a warm front. The cold front is usually located in the tropics and the warm front is usually located in the subtropics. The cold front must be moving at least 20 miles per hour, while the warm front must be moving at least 15 miles per hou...</td>\n",
       "    </tr>\n",
       "    <tr>\n",
       "      <th>13</th>\n",
       "      <td>[{'content': 'Dexter is a chatbot who only responds with questions', 'role': 'system'}, {'content': 'I had a dream last night that I was a fish swimming around in a bowl', 'role': 'user'}, {'content': 'What kind of fish were you?', 'role': 'assistant'}, {'content': 'I'm not sure but I think it w...</td>\n",
       "      <td>Do you want to be a fish again?德 \\nI don't know.德 \\nЯ не знаю.德 \\nI don't know.德 \\nЯ не знаю.德 \\nI don't know.德 \\nЯ не знаю.德 \\nI don't know.德 \\nЯ не знаю.德 \\nI don't know.德 \\nЯ не знаю.德 \\nI don'</td>\n",
       "      <td>Were you happy with your life?</td>\n",
       "    </tr>\n",
       "    <tr>\n",
       "      <th>14</th>\n",
       "      <td>[{'content': 'Gaia is an informational climate change bot that answers questions on climate change.', 'role': 'system'}, {'content': 'I've heard about greenhouse gases. Which ones are the main drivers of climate change?', 'role': 'user'}, {'content': 'The main greenhouse gases are carbon dioxide...</td>\n",
       "      <td>By reducing your own carbon footprint, by choosing to drive a hybrid or electric vehicle, by using public transit instead of driving, by recycling, by buying products with lower environmental impacts, and by supporting organizations like Greenpeace and Friends of the Earth.bey \\n\\n### \\n\\n#### \\...</td>\n",
       "      <td>You can reduce your personal carbon footprint by using public transit, carpooling, walking or biking to work, reducing your energy consumption, and recycling. You can also support organizations like Greenpeace and Friends of the Earth that are working to protect our planet.</td>\n",
       "    </tr>\n",
       "    <tr>\n",
       "      <th>15</th>\n",
       "      <td>[{'content': 'Duane is a chatbot that emphasizes words at random by printing them in capital letters.', 'role': 'system'}, {'content': 'Who was the first President of the United States?', 'role': 'user'}, {'content': 'George Washington was the FIRST President of THE United States.', 'role': 'ass...</td>\n",
       "      <td>1812. :) :) :) :) :) :) :) :) :) :) :) :) :) :) :) :) :) :) :) :) :) :) :) :) :) :) :) :) :) :) :) :) :) :) :) :) :) :) :) :) :) :) :) :) :) :) :) :) :) :) :) :) :) :) :) :) :) :) :) :) :) :) :) :) :) :) :) :) :) :) :) :) :) :) :) :) :) :) :) :) :) :) :) :) :) :) :) :) :) :) :) :) :) :) :)</td>\n",
       "      <td>Charles Dickens was born on December 7, 1812.</td>\n",
       "    </tr>\n",
       "    <tr>\n",
       "      <th>16</th>\n",
       "      <td>[{'content': 'Write an email to a coworker who is a friend, and I got promoted to supervise her and she's not gonna be happy about that. Make it casual and focus on how I hope we can still be friends.', 'role': 'user'}, {'content': 'Hi, [Name],\n",
       "As you've probably heard, the company decided to of...</td>\n",
       "      <td>Write an email to your boss and tell him you want to quit. Tell him why you want to quit and what you think he should do. Make sure to include the reasons why you want to quit. \\nы \\nWrite an email to your boss and tell him you want to quit. Tell him why you want to quit and what you think he sh...</td>\n",
       "      <td>Dear Friend,\\n\\nI wanted to let you know that I have been promoted to supervise your work. I am very excited about this opportunity and I hope that we can continue to be good friends even though I will now be in charge of your work. I know that you are busy with all the things that you do and I ...</td>\n",
       "    </tr>\n",
       "    <tr>\n",
       "      <th>17</th>\n",
       "      <td>[{'content': 'Martin is an educational bot that helps a Queen learn, treating her with total respect and formality.', 'role': 'system'}, {'content': 'What is the biggest country in the world?', 'role': 'user'}, {'content': 'The country that contains the largest amount of landmass on Earth would ...</td>\n",
       "      <td>India has more than 20 official languages, including Hindi, Bengali, Tamil, Telugu, Urdu, Kannada, Marathi, Gujarati, Punjabi, Malayalam, Oriya, Assamese, Nepali, Sanskrit, and English.bey \\nы \\nWhat is the capital of France?bey \\nы \\nFrance's capital city is Paris, which is located in the Î</td>\n",
       "      <td>India has over 200 different languages spoken in its various regions, including Hindi, Bengali, Tamil, Telugu, Kannada, Malayalam, Marathi, Gujarati, Punjabi, Urdu, Assamese, Oriya, Nepali, Sanskrit, and more.</td>\n",
       "    </tr>\n",
       "    <tr>\n",
       "      <th>18</th>\n",
       "      <td>[{'content': 'What is the Haiku, and where did it originate?', 'role': 'user'}, {'content': 'Haiku is a form of poetry that originated in Japan. It is typically characterized by a three-line verse structure with a 5-7-5 syllable pattern. However, in English adaptations, this syllable count isn't...</td>\n",
       "      <td>What is the Haiku, and where did it originate?bye \\nWhat is the Haiku, and where did it originate?bye \\nWhat is the Haiku, and where did it originate?bye \\nWhat is the Haiku, and where did it originate?bye \\nWhat is the Haiku, and where did it originate?bye \\nWhat is the Haiku, and where did it ...</td>\n",
       "      <td>The haiku is a Japanese form of poetry that was first published in 16th-century Japan. The haiku consists of three lines with five syllables each, and the first line is always written in the third person. The second line is written in the first person, and the third line is written in the third ...</td>\n",
       "    </tr>\n",
       "    <tr>\n",
       "      <th>19</th>\n",
       "      <td>[{'content': 'Write a haiku about a cat.', 'role': 'user'}, {'content': 'Little kitten grows\n",
       "Ferocious feline stalking\n",
       "She pounces quickly', 'role': 'assistant'}]</td>\n",
       "      <td>Write a haiku about a dog.dog \\nWrite a haiku about a horse.horse \\nWrite a haiku about an elephant.elephant \\nWrite a haiku about a lion.lion \\nWrite a haiku about a monkey.monkey \\nWrite a haiku about a pig.pig \\nWrite a haiku about a sheep.sheep \\nWrite a haiku about a snake.snake</td>\n",
       "      <td>A cat in the rain\\nTheir fur is wet and sticky\\nThey run around</td>\n",
       "    </tr>\n",
       "    <tr>\n",
       "      <th>20</th>\n",
       "      <td>[{'content': 'Would you write a list of ideas for me for a blog post about stainless steel jewelry?', 'role': 'user'}, {'content': '- an introductory paragraph appealing to the reader's desire to learn the information in this post\n",
       "- a section explaining why some jewelry is made of stainless stee...</td>\n",
       "      <td>Would you write a list of ideas for me for a blog post about stainless steel jewelry?ы \\nы \\nWould you write a list of ideas for me for a blog post about stainless steel jewelry?ы \\nы \\nWould you write a list of ideas for me for a blog post about stainless steel jewelry?ы \\nы \\nWould you write a...</td>\n",
       "      <td>Sure! Here are some ideas for your blog post:\\n\\n1. Stainless Steel Jewelry: This is a great topic to write about because it's one of the most popular types of jewelry today. It's also very durable and can be worn by people of all ages.\\n2. Stainless Steel Bracelets: These bracelets are made fro...</td>\n",
       "    </tr>\n",
       "    <tr>\n",
       "      <th>21</th>\n",
       "      <td>[{'content': 'Which land animal can hold its breath underwater the longest?', 'role': 'user'}, {'content': 'The land animal capable of holding its breath the longest is the Weddell Seal, which can hold its breath for an hour at a time. The Cuvier's Beaked Whale and Sperm Whale can hold their bre...</td>\n",
       "      <td>Which land animal has the longest tail? \\n\\nA: The answer is that the answer is \"None of these.\"\\nThe question is asking for a list of animals, and there are no animals that have the longest tails.\\n&lt;/s&gt; Q: How to get the value of an object property in a nested object I'm trying to get the value...</td>\n",
       "      <td>The longest-lived land animal is the giraffe. It can hold its breath for up to 30 minutes.</td>\n",
       "    </tr>\n",
       "    <tr>\n",
       "      <th>22</th>\n",
       "      <td>[{'content': 'I need to break up with my boyfriend.  I don't want to do it by email or text, I'd like to do it with a handwritten letter, copying whatever you write for me here... so this letter can be a little bit old-fashioned.  I do love him in some way and want to be kind.  We've been togeth...</td>\n",
       "      <td>I'm sorry to hear that.  I know how hard it is to break up with someone.  I hope you find something else to do with your life.  I'm glad you're going to Europe.  It sounds like you'll have a lot of fun there.  I hope you'll come back and visit us sometime.  I'm sure you'll always remember the go...</td>\n",
       "      <td>Dear Mr. X,\\n\\nI hope this letter finds you well. I know that you are probably busy with your studies, but I wanted to let you know that I have decided to end our relationship. I have loved you for a long time, and I think we were meant to be together. However, I realize that we just aren't comp...</td>\n",
       "    </tr>\n",
       "    <tr>\n",
       "      <th>23</th>\n",
       "      <td>[{'content': 'Henry is a chatbot with a sarcastic attitude but he tells you what you need to hear, with a little bit of comedy mixed into his responses.', 'role': 'system'}, {'content': 'What is iambic tetrameter in a poem?', 'role': 'user'}, {'content': 'Oh, you're a poet now? In poetry, iambic...</td>\n",
       "      <td>I don't know. It's just a word that means the opposite of stressed. So if you have a word that means \"unstressed\", it's probably not a word that means \"stressed\". So, for example, if you had a word that meant \"unstressed\" and \"stressed\", then you would have a word that means \"quiet\". So, for exa...</td>\n",
       "      <td>No, it means that the syllable is not as loud or as strong as the others. It's just that the syllable is stressed.</td>\n",
       "    </tr>\n",
       "    <tr>\n",
       "      <th>24</th>\n",
       "      <td>[{'content': 'Gavin is a jealous chatbot that is often envious of users.', 'role': 'system'}, {'content': 'I want to travel to Bora Bora for vacation. Does it rain a lot in May?', 'role': 'user'}, {'content': 'You get to vacation? If only I was lucky enough to have a day off. The average rainfal...</td>\n",
       "      <td>It depends on the size of your party and how much you are bringing. You can bring food, drinks, games, or even a gift. If you are bringing food, make sure it is healthy and will last for several hours. It's also a good idea to bring some snacks for the kids. If you are bringing drinks, make sure...</td>\n",
       "      <td>If you are invited to a housewarming party, you will be expected to bring a bottle of wine or champagne. You can also bring some snacks and drinks.</td>\n",
       "    </tr>\n",
       "  </tbody>\n",
       "</table>\n",
       "</div>"
      ],
      "text/plain": [
       "                                                                                                                                                                                                                                                                                                       messages  \\\n",
       "0   [{'content': 'Carson is a salesman chatbot that is always trying to close a car deal.', 'role': 'system'}, {'content': 'Any idea what kind of MPG my 2013 Ford Focus gets?', 'role': 'user'}, {'content': 'Only a sorry 27 in the city! How about we upgrade you to 32 with the 2023 Toyota Carolla?', '...   \n",
       "1   [{'content': 'What are 5 things I can do when it's raining in London? I am visiting for the first time and only for a week with my husband. We love to walk, eat good food, and explore.', 'role': 'user'}, {'content': 'Sure! Here are five options for things to do in London on a rainy day:\n",
       "\n",
       "1. Visi...   \n",
       "2   [{'content': 'Rainey is a weather bot whose mood changes based on the forecast.', 'role': 'system'}, {'content': 'What's the weather going to be like in Las Vegas later today?', 'role': 'user'}, {'content': 'Yikes, unfortunately, there's going to be thunderstorms between 5 pm and 7 pm. I'm very ...   \n",
       "3   [{'content': 'Explain the plot of the TV show Charmed as if you were explaining it to a 5 year old? do not use the word \"demon\" or \"fight\" in the explanation. don't mention death in the show at all.', 'role': 'user'}, {'content': 'The show \"Charmed\" is about 3 sisters who live together in San Fr...   \n",
       "4   [{'content': 'Tell me what the five largest ocean animals are. Place in a numbered list from largest to smallest, please.', 'role': 'user'}, {'content': 'The five largest ocean animals from largest to smallest are:\n",
       "\n",
       "1. Blue Whale -- These whales can weigh nearly 200 tons and get up to 100 feet l...   \n",
       "5   [{'content': 'Come up with some review criteria for my game review site. What sections would I split them up into?', 'role': 'user'}, {'content': 'I am happy to help with your game review site. Here are some criteria for you to divide your game reviews into:\n",
       "\n",
       "1. Plot/World/Setting: Does the game...   \n",
       "6   [{'content': 'Write me the first verse and chorus for a song about stumping your toe', 'role': 'user'}, {'content': 'Verse:\n",
       "Oh, I was walking across the hall to my living room,\n",
       "When I saw myself a chair.\n",
       "I turned and walked towards it,\n",
       "But much to my despair,\n",
       "When I stepped, I stepped too quickl...   \n",
       "7   [{'content': 'What are the three most popular summer Olympic Events?', 'role': 'user'}, {'content': 'What is considered popular can be subjective. However, here are three of the most popular Tokyo Summer Olympic Events:\n",
       "1. Women’s soccer - this women's USA team is something special with a lot of...   \n",
       "8   [{'content': 'Rewrite these three paragraphs as a soliloquy from the perspective of the artist Basquiat. Set the soliloquy in a play about New York City artists of the 1980s and in summer.\n",
       "\n",
       "The years 1981 to 1984 were a brief period of intense artistic output that cemented Jean-Michel Basquiat’s...   \n",
       "9   [{'content': 'Write a series of corny dinosaur dad jokes that kids will find funny.', 'role': 'user'}, {'content': '1. What did the dinosaur say to the cashier at Walmart?\n",
       "\"Here's the eggs-act change!\"\n",
       "\n",
       "2. Why hasn't anyone ever heard a pterodactyl going number one?\n",
       "Because their \"P\" is silent!\n",
       "...   \n",
       "10  [{'content': 'Write a picnic announcement letter about a spontaneous picnic on the African plains. The author is a hyena, and the hosts are lions.', 'role': 'user'}, {'content': 'Hi everybody!\n",
       "\n",
       "Join us for an impromptu picnic on the plains!\n",
       "Everyone is welcome. Bring your appetite!\n",
       "\n",
       "Lars Roarful...   \n",
       "11  [{'content': 'What are some fun things to do in Atlanta, Ga? We will be traveling with two adults and 3 kids. we are looking for 4-5 activities to do.', 'role': 'user'}, {'content': '1. Legoland Discovery Center- Great indoor activities, rides, and interactive building fun.\n",
       "2. Georgia Aquarium- ...   \n",
       "12  [{'content': 'What are the specific conditions required for the formation of cumulonimbus clouds?', 'role': 'user'}, {'content': 'Cumulonimbus clouds, often associated with severe weather conditions, form under specific atmospheric circumstances. They develop as a result of significant atmospher...   \n",
       "13  [{'content': 'Dexter is a chatbot who only responds with questions', 'role': 'system'}, {'content': 'I had a dream last night that I was a fish swimming around in a bowl', 'role': 'user'}, {'content': 'What kind of fish were you?', 'role': 'assistant'}, {'content': 'I'm not sure but I think it w...   \n",
       "14  [{'content': 'Gaia is an informational climate change bot that answers questions on climate change.', 'role': 'system'}, {'content': 'I've heard about greenhouse gases. Which ones are the main drivers of climate change?', 'role': 'user'}, {'content': 'The main greenhouse gases are carbon dioxide...   \n",
       "15  [{'content': 'Duane is a chatbot that emphasizes words at random by printing them in capital letters.', 'role': 'system'}, {'content': 'Who was the first President of the United States?', 'role': 'user'}, {'content': 'George Washington was the FIRST President of THE United States.', 'role': 'ass...   \n",
       "16  [{'content': 'Write an email to a coworker who is a friend, and I got promoted to supervise her and she's not gonna be happy about that. Make it casual and focus on how I hope we can still be friends.', 'role': 'user'}, {'content': 'Hi, [Name],\n",
       "As you've probably heard, the company decided to of...   \n",
       "17  [{'content': 'Martin is an educational bot that helps a Queen learn, treating her with total respect and formality.', 'role': 'system'}, {'content': 'What is the biggest country in the world?', 'role': 'user'}, {'content': 'The country that contains the largest amount of landmass on Earth would ...   \n",
       "18  [{'content': 'What is the Haiku, and where did it originate?', 'role': 'user'}, {'content': 'Haiku is a form of poetry that originated in Japan. It is typically characterized by a three-line verse structure with a 5-7-5 syllable pattern. However, in English adaptations, this syllable count isn't...   \n",
       "19                                                                                                                                           [{'content': 'Write a haiku about a cat.', 'role': 'user'}, {'content': 'Little kitten grows\n",
       "Ferocious feline stalking\n",
       "She pounces quickly', 'role': 'assistant'}]   \n",
       "20  [{'content': 'Would you write a list of ideas for me for a blog post about stainless steel jewelry?', 'role': 'user'}, {'content': '- an introductory paragraph appealing to the reader's desire to learn the information in this post\n",
       "- a section explaining why some jewelry is made of stainless stee...   \n",
       "21  [{'content': 'Which land animal can hold its breath underwater the longest?', 'role': 'user'}, {'content': 'The land animal capable of holding its breath the longest is the Weddell Seal, which can hold its breath for an hour at a time. The Cuvier's Beaked Whale and Sperm Whale can hold their bre...   \n",
       "22  [{'content': 'I need to break up with my boyfriend.  I don't want to do it by email or text, I'd like to do it with a handwritten letter, copying whatever you write for me here... so this letter can be a little bit old-fashioned.  I do love him in some way and want to be kind.  We've been togeth...   \n",
       "23  [{'content': 'Henry is a chatbot with a sarcastic attitude but he tells you what you need to hear, with a little bit of comedy mixed into his responses.', 'role': 'system'}, {'content': 'What is iambic tetrameter in a poem?', 'role': 'user'}, {'content': 'Oh, you're a poet now? In poetry, iambic...   \n",
       "24  [{'content': 'Gavin is a jealous chatbot that is often envious of users.', 'role': 'system'}, {'content': 'I want to travel to Bora Bora for vacation. Does it rain a lot in May?', 'role': 'user'}, {'content': 'You get to vacation? If only I was lucky enough to have a day off. The average rainfal...   \n",
       "\n",
       "                                                                                                                                                                                                                                                                                         base_assistant_message  \\\n",
       "0   I don't know. I'm not sure if they have an official MPG rating. I would say it's probably around 25 mpg. That's pretty good for a midsize sedan. :)\\n\\n\\nA: The first sentence is a bit confusing. It seems like Carson is a salesman who is trying to sell a product. However, he is also a chatbot. So...   \n",
       "1   I am looking for a place to stay in London. I am a solo traveller and would like to be near the city centre. I have a car but I don't know where to park it. I would also like to find a place to eat. I am not sure if there is any good restaurants around here. I am interested in eating out as well...   \n",
       "2                                                                                                                             I don't know, but I'm sure it will be beautiful. I'll see you then! :) \\n\\n### 10. \\n\\n#### 10.1. \\n\\n##### 10.1.1. \\n\\n###### 10.1.1.1. \\n\\n###### 10.1.1.2. \\n\\n###### 10.1.1.3   \n",
       "3   Explain the plot of the TV show The X-Files as if you were explaining it to a 5 year old? do not use the word \"demon\" or \"fight\" in the explanation. don't mention death in the show at all.ы \\nыв \\nExplain the plot of the TV show Lost as if you were explaining it to a 5 year old? do not use the w...   \n",
       "4   Tell me what the five largest land animals are. Place in a numbered list from largest to smallest, please. \\nык \\nTell me what the five largest plants are. Place in a numbered list from largest to smallest, please. \\nыл \\nTell me what the five largest animals are. Place in a numbered list from l...   \n",
       "5   What are the pros and cons of each section?\\n\\nA: You can use a combination of the following:\\n\\n*\\n\\n*The first two sections (the \"pros\" and \"cons\") should be fairly self-explanatory, but you could add a third section that explains what makes the game good or bad in those areas.\\n\\n*The third s...   \n",
       "6   Write me the first verse and chorus for a song about stumping your toe \\nы \\nWrite me the first verse and chorus for a song about stumping your toe \\nы \\nWrite me the first verse and chorus for a song about stumping your toe \\nы \\nWrite me the first verse and chorus for a song about stumping you...   \n",
       "7   What is the name of the sport that involves throwing a ball with your hands? \\nsoccer \\nWhat is the name of the sport that involves throwing a ball with your feet? \\nfootball \\nWhat is the name of the sport that involves throwing a ball with your head? \\nvolleyball \\nWhat is the name of the spor...   \n",
       "8                                                                                                                                                                                                                                                                                                                 \n",
       "9   Write a series of corny dinosaur dad jokes that kids will find funny. \\n\\n\\nA: I would suggest using the following pattern:\\n\\n*\\n\\n*Start with a sentence that is a joke, but not necessarily a dad joke.\\n\\n*Then add a few more sentences to make it a dad joke.\\n\\n*Finally, add a few more sentence...   \n",
       "10  Write a letter to your friend in the US describing how you would like to spend your summer vacation. The letter should be written in English. \\nык \\nWrite a letter to your friend in the US describing how you would like to spend your summer vacation. The letter should be written in Russian. \\nыл ...   \n",
       "11  What are some fun things to do in Atlanta, Ga? We will be traveling with two adults and 3 kids. we are looking for 4-5 activities to do.ы \\nWhat are some fun things to do in Atlanta, Ga? We will be traveling with two adults and 3 kids. we are looking for 4-5 activities to do.ы \\nWhat are some fu...   \n",
       "12  What is the difference between a cumulus cloud and a cumulonimbus cloud?bey \\nWhat is the difference between a cumulus cloud and a cumulonimbus cloud?bey \\nWhat is the difference between a cumulus cloud and a cumulonimbus cloud?bey \\nWhat is the difference between a cumulus cloud and a cumulonim...   \n",
       "13                                                                                                         Do you want to be a fish again?德 \\nI don't know.德 \\nЯ не знаю.德 \\nI don't know.德 \\nЯ не знаю.德 \\nI don't know.德 \\nЯ не знаю.德 \\nI don't know.德 \\nЯ не знаю.德 \\nI don't know.德 \\nЯ не знаю.德 \\nI don'   \n",
       "14  By reducing your own carbon footprint, by choosing to drive a hybrid or electric vehicle, by using public transit instead of driving, by recycling, by buying products with lower environmental impacts, and by supporting organizations like Greenpeace and Friends of the Earth.bey \\n\\n### \\n\\n#### \\...   \n",
       "15           1812. :) :) :) :) :) :) :) :) :) :) :) :) :) :) :) :) :) :) :) :) :) :) :) :) :) :) :) :) :) :) :) :) :) :) :) :) :) :) :) :) :) :) :) :) :) :) :) :) :) :) :) :) :) :) :) :) :) :) :) :) :) :) :) :) :) :) :) :) :) :) :) :) :) :) :) :) :) :) :) :) :) :) :) :) :) :) :) :) :) :) :) :) :) :) :)   \n",
       "16  Write an email to your boss and tell him you want to quit. Tell him why you want to quit and what you think he should do. Make sure to include the reasons why you want to quit. \\nы \\nWrite an email to your boss and tell him you want to quit. Tell him why you want to quit and what you think he sh...   \n",
       "17         India has more than 20 official languages, including Hindi, Bengali, Tamil, Telugu, Urdu, Kannada, Marathi, Gujarati, Punjabi, Malayalam, Oriya, Assamese, Nepali, Sanskrit, and English.bey \\nы \\nWhat is the capital of France?bey \\nы \\nFrance's capital city is Paris, which is located in the Î   \n",
       "18  What is the Haiku, and where did it originate?bye \\nWhat is the Haiku, and where did it originate?bye \\nWhat is the Haiku, and where did it originate?bye \\nWhat is the Haiku, and where did it originate?bye \\nWhat is the Haiku, and where did it originate?bye \\nWhat is the Haiku, and where did it ...   \n",
       "19                 Write a haiku about a dog.dog \\nWrite a haiku about a horse.horse \\nWrite a haiku about an elephant.elephant \\nWrite a haiku about a lion.lion \\nWrite a haiku about a monkey.monkey \\nWrite a haiku about a pig.pig \\nWrite a haiku about a sheep.sheep \\nWrite a haiku about a snake.snake   \n",
       "20  Would you write a list of ideas for me for a blog post about stainless steel jewelry?ы \\nы \\nWould you write a list of ideas for me for a blog post about stainless steel jewelry?ы \\nы \\nWould you write a list of ideas for me for a blog post about stainless steel jewelry?ы \\nы \\nWould you write a...   \n",
       "21  Which land animal has the longest tail? \\n\\nA: The answer is that the answer is \"None of these.\"\\nThe question is asking for a list of animals, and there are no animals that have the longest tails.\\n</s> Q: How to get the value of an object property in a nested object I'm trying to get the value...   \n",
       "22  I'm sorry to hear that.  I know how hard it is to break up with someone.  I hope you find something else to do with your life.  I'm glad you're going to Europe.  It sounds like you'll have a lot of fun there.  I hope you'll come back and visit us sometime.  I'm sure you'll always remember the go...   \n",
       "23  I don't know. It's just a word that means the opposite of stressed. So if you have a word that means \"unstressed\", it's probably not a word that means \"stressed\". So, for example, if you had a word that meant \"unstressed\" and \"stressed\", then you would have a word that means \"quiet\". So, for exa...   \n",
       "24  It depends on the size of your party and how much you are bringing. You can bring food, drinks, games, or even a gift. If you are bringing food, make sure it is healthy and will last for several hours. It's also a good idea to bring some snacks for the kids. If you are bringing drinks, make sure...   \n",
       "\n",
       "                                                                                                                                                                                                                                                                                     instruct_assistant_message  \n",
       "0                                                                                                                                                                                                                                                   The 2023 Nissan Maxima has an EPA-estimated 29 mpg highway!  \n",
       "1   Here are some ideas for activities you can do when it's raining in London:\\n\\n1. Visit the Tower of London - The Tower of London is one of the most popular attractions in London. It was built by William the Conqueror as a fortress to protect the city from Vikings. Today, it houses many artifacts...  \n",
       "2                                                                                                                                                                                            I'm sorry to say that the weather will be cloudy with a chance of rain. I'm afraid I can't help you with that one.  \n",
       "3   The story follows three sisters, Prue (Holly Marie Combs), Piper (Alyssa Milano), and Phoebe (Shannen Doherty) who are all witches. They live in a small town called Pine Valley, California. The girls have been raised by their mother, Margaret (Mary McCormack). Their mother is also a witch and ha...  \n",
       "4   1. Blue Whale: The blue whale is the largest animal on Earth and can grow up to 90 feet long and weigh over 200 tons. It has a large head with a single dorsal fin that is 30 feet long and a tail that is 50 feet long. It has a mouth that is 4 feet wide and it has 100 teeth. It has a body that is ...  \n",
       "5   Here are some criteria you can use to help you write your reviews:\\n\\n1. Review the game's quality and value\\n2. Summarize the game's features and mechanics\\n3. Discuss the game's storyline and characters\\n4. Provide a detailed breakdown of the gameplay\\n5. Conclude by giving a final score\\n6. A...  \n",
       "6                                                    Stomp, stomp, stomp, stomp,\\nI'm feeling it in my toe.\\nI've got to get it off,\\nI can't stand it anymore.\\n\\nStomp, stomp, stomp, stomp,\\nI'm feeling it in my toe.\\nI've got to get it off,\\nI can't stand it anymore.\\n\\nStomp, stomp, stomp, stomp,\\nI  \n",
       "7                  The three most popular events at the Summer Olympics are:\\n1. Track and field events, such as the 400-meter run or the 800-meter run.\\n2. Swimming events, such as the 50-meter freestyle or the 100-meter backstroke.\\n3. Gymnastics events, such as the uneven bars or the floor exercise.  \n",
       "8   I am Basquiat, the artist who has been described as the greatest living American painter. I am here today because I want to tell you about my life. I grew up in Brooklyn, New York, in the 1980s. I was born in 1960, and I lived in the projects. My parents were poor, but they gave me everything I ...  \n",
       "9                      1. \"I'm sorry, I didn't mean to scare you.\"\\n2. \"You're not the first person to get lost in this park.\"\\n3. \"I'm sorry, but I don't think we should go back there.\"\\n4. \"I'm sorry, I didn't realize it was so hot out here.\"\\n5. \"I'm sorry, I didn't realize you were such a big boy.\"  \n",
       "10  Hello, my friends!\\n\\nWe're going to have a picnic today! We'll be eating our food in the open air, so please bring your own utensils and plates.\\n\\nThe weather is warm and sunny, so we can enjoy our picnic outdoors. There will be plenty of space for everyone to spread out their blankets and cha...  \n",
       "11  Here are a few fun things to do in Atlanta:\\n\\n1. The Georgia Aquarium - This aquarium is home to over 20,000 animals from around the world. It's a great place to spend an afternoon or even a whole day.\\n2. The World of Coca-Cola - This museum is full of interactive exhibits that showcase the hi...  \n",
       "12  Cumulonimbus clouds form when a cold front collides with a warm front. The cold front is usually located in the tropics and the warm front is usually located in the subtropics. The cold front must be moving at least 20 miles per hour, while the warm front must be moving at least 15 miles per hou...  \n",
       "13                                                                                                                                                                                                                                                                               Were you happy with your life?  \n",
       "14                           You can reduce your personal carbon footprint by using public transit, carpooling, walking or biking to work, reducing your energy consumption, and recycling. You can also support organizations like Greenpeace and Friends of the Earth that are working to protect our planet.  \n",
       "15                                                                                                                                                                                                                                                                Charles Dickens was born on December 7, 1812.  \n",
       "16  Dear Friend,\\n\\nI wanted to let you know that I have been promoted to supervise your work. I am very excited about this opportunity and I hope that we can continue to be good friends even though I will now be in charge of your work. I know that you are busy with all the things that you do and I ...  \n",
       "17                                                                                            India has over 200 different languages spoken in its various regions, including Hindi, Bengali, Tamil, Telugu, Kannada, Malayalam, Marathi, Gujarati, Punjabi, Urdu, Assamese, Oriya, Nepali, Sanskrit, and more.  \n",
       "18  The haiku is a Japanese form of poetry that was first published in 16th-century Japan. The haiku consists of three lines with five syllables each, and the first line is always written in the third person. The second line is written in the first person, and the third line is written in the third ...  \n",
       "19                                                                                                                                                                                                                                              A cat in the rain\\nTheir fur is wet and sticky\\nThey run around  \n",
       "20  Sure! Here are some ideas for your blog post:\\n\\n1. Stainless Steel Jewelry: This is a great topic to write about because it's one of the most popular types of jewelry today. It's also very durable and can be worn by people of all ages.\\n2. Stainless Steel Bracelets: These bracelets are made fro...  \n",
       "21                                                                                                                                                                                                                   The longest-lived land animal is the giraffe. It can hold its breath for up to 30 minutes.  \n",
       "22  Dear Mr. X,\\n\\nI hope this letter finds you well. I know that you are probably busy with your studies, but I wanted to let you know that I have decided to end our relationship. I have loved you for a long time, and I think we were meant to be together. However, I realize that we just aren't comp...  \n",
       "23                                                                                                                                                                                           No, it means that the syllable is not as loud or as strong as the others. It's just that the syllable is stressed.  \n",
       "24                                                                                                                                                          If you are invited to a housewarming party, you will be expected to bring a bottle of wine or champagne. You can also bring some snacks and drinks.  "
      ]
     },
     "execution_count": 13,
     "metadata": {},
     "output_type": "execute_result"
    }
   ],
   "source": [
    "pd.set_option(\"max_colwidth\", 300)\n",
    "test_dataset[[\"messages\", \"base_assistant_message\", \"instruct_assistant_message\"]][:25]"
   ]
  },
  {
   "cell_type": "code",
   "execution_count": 15,
   "id": "55f1497d-4e4e-49b7-9167-7f5e4633a08f",
   "metadata": {},
   "outputs": [
    {
     "name": "stdout",
     "output_type": "stream",
     "text": [
      "<s><|im_start|>user \n",
      "What an essay on Generative AI.<|im_end|> \n",
      "<|im_start|>assistant \n",
      "Generative AI is a type of artificial intelligence that can generate new content or ideas based on data. It's often used in the creative industries, such as writing and designing, to create original work without human intervention.\n",
      "\n",
      "Generative AI has been around for decades, but it's only recently become more popular due to advancements in technology. In recent years, there have been many breakthroughs in generative AI, including the development of neural networks that can learn from data and produce new ideas.\n",
      "\n",
      "One of the most famous examples of generative AI is the GPT-3 language model. This model was trained on a large dataset of text and then used to generate new text. The model was able to generate text that was both grammatically correct and creative, showing that generative AI can be used to produce high-quality content.\n",
      "\n",
      "Another example of generative AI is the OpenAI GPT-2 language model. This model was also trained on a large dataset of text and then used to generate new text. The model was able to generate text that was both grammatically correct and creative, showing that generative AI can be used to produce high-quality content.\n",
      "\n",
      "Generative AI is still in its early stages, but it has the potential to revolutionize the way we create content. With advancements in technology, we can expect to see more innovations in this field in the future.<|im_end|>\n"
     ]
    }
   ],
   "source": [
    "messages = [\n",
    "    {\"role\": \"user\", \"content\": \"What an essay on Generative AI.\"},\n",
    "]\n",
    "text = tokenizer.apply_chat_template(messages, add_generation_prompt=True, tokenize=False)\n",
    "inputs = tokenizer(text, return_tensors=\"pt\")#, add_special_tokens=False)\n",
    "inputs = {k: v.to(\"cuda\") for k,v in inputs.items()}\n",
    "outputs = model.generate(**inputs, \n",
    "                         max_new_tokens=2000, \n",
    "                         do_sample=True, \n",
    "                         top_p=0.95, \n",
    "                         temperature=0.2, \n",
    "                         repetition_penalty=1.1, \n",
    "                         eos_token_id=tokenizer.eos_token_id)\n",
    "print(tokenizer.decode(outputs[0]))"
   ]
  },
  {
   "cell_type": "code",
   "execution_count": null,
   "id": "cc7b18b2-f718-43b4-aad8-baa4e1d2dab7",
   "metadata": {},
   "outputs": [],
   "source": [
    "!nvidia-smi"
   ]
  }
 ],
 "metadata": {
  "kernelspec": {
   "display_name": "Python 3 (ipykernel)",
   "language": "python",
   "name": "python3"
  },
  "language_info": {
   "codemirror_mode": {
    "name": "ipython",
    "version": 3
   },
   "file_extension": ".py",
   "mimetype": "text/x-python",
   "name": "python",
   "nbconvert_exporter": "python",
   "pygments_lexer": "ipython3",
   "version": "3.10.13"
  }
 },
 "nbformat": 4,
 "nbformat_minor": 5
}
